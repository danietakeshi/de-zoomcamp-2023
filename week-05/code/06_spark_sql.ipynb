{
 "cells": [
  {
   "cell_type": "code",
   "execution_count": 3,
   "metadata": {},
   "outputs": [],
   "source": [
    "import pyspark\n",
    "from pyspark.sql import SparkSession"
   ]
  },
  {
   "cell_type": "code",
   "execution_count": 4,
   "metadata": {},
   "outputs": [],
   "source": [
    "spark = SparkSession.builder \\\n",
    "    .master(\"local[*]\") \\\n",
    "    .appName('test') \\\n",
    "    .getOrCreate()"
   ]
  },
  {
   "cell_type": "code",
   "execution_count": 5,
   "metadata": {},
   "outputs": [],
   "source": [
    "df_green = spark.read.parquet('data/pq/green/*/*')"
   ]
  },
  {
   "cell_type": "code",
   "execution_count": 10,
   "metadata": {},
   "outputs": [],
   "source": [
    "df_green = df_green \\\n",
    "    .withColumnRenamed('lpep_pickup_datetime', 'pickup_datetime') \\\n",
    "    .withColumnRenamed('lpep_dropoff_datetime', 'dropoff_datetime')"
   ]
  },
  {
   "cell_type": "code",
   "execution_count": 7,
   "metadata": {},
   "outputs": [],
   "source": [
    "df_yellow = spark.read.parquet('data/pq/yellow/*/*')"
   ]
  },
  {
   "cell_type": "code",
   "execution_count": 11,
   "metadata": {},
   "outputs": [],
   "source": [
    "df_yellow = df_yellow \\\n",
    "    .withColumnRenamed('tpep_pickup_datetime', 'pickup_datetime') \\\n",
    "    .withColumnRenamed('tpep_dropoff_datetime', 'dropoff_datetime')"
   ]
  },
  {
   "cell_type": "code",
   "execution_count": 12,
   "metadata": {},
   "outputs": [
    {
     "data": {
      "text/plain": [
       "{'DOLocationID',\n",
       " 'PULocationID',\n",
       " 'RatecodeID',\n",
       " 'VendorID',\n",
       " 'congestion_surcharge',\n",
       " 'dropoff_datetime',\n",
       " 'extra',\n",
       " 'fare_amount',\n",
       " 'improvement_surcharge',\n",
       " 'mta_tax',\n",
       " 'passenger_count',\n",
       " 'payment_type',\n",
       " 'pickup_datetime',\n",
       " 'store_and_fwd_flag',\n",
       " 'tip_amount',\n",
       " 'tolls_amount',\n",
       " 'total_amount',\n",
       " 'trip_distance'}"
      ]
     },
     "execution_count": 12,
     "metadata": {},
     "output_type": "execute_result"
    }
   ],
   "source": [
    "set(df_green.columns) & set(df_yellow.columns)"
   ]
  },
  {
   "cell_type": "code",
   "execution_count": 13,
   "metadata": {},
   "outputs": [],
   "source": [
    "common_colums = []\n",
    "\n",
    "yellow_columns = set(df_yellow.columns)\n",
    "\n",
    "for col in df_green.columns:\n",
    "    if col in yellow_columns:\n",
    "        common_colums.append(col)"
   ]
  },
  {
   "cell_type": "code",
   "execution_count": 15,
   "metadata": {},
   "outputs": [
    {
     "name": "stdout",
     "output_type": "stream",
     "text": [
      "['VendorID', 'pickup_datetime', 'dropoff_datetime', 'store_and_fwd_flag', 'RatecodeID', 'PULocationID', 'DOLocationID', 'passenger_count', 'trip_distance', 'fare_amount', 'extra', 'mta_tax', 'tip_amount', 'tolls_amount', 'improvement_surcharge', 'total_amount', 'payment_type', 'congestion_surcharge']\n"
     ]
    }
   ],
   "source": [
    "print(common_colums)"
   ]
  },
  {
   "cell_type": "code",
   "execution_count": 16,
   "metadata": {},
   "outputs": [],
   "source": [
    "from pyspark.sql import functions as F"
   ]
  },
  {
   "cell_type": "code",
   "execution_count": 17,
   "metadata": {},
   "outputs": [],
   "source": [
    "df_green_sel = df_green \\\n",
    "    .select(common_colums) \\\n",
    "    .withColumn('service_type', F.lit('green'))"
   ]
  },
  {
   "cell_type": "code",
   "execution_count": 18,
   "metadata": {},
   "outputs": [],
   "source": [
    "df_yellow_sel = df_yellow \\\n",
    "    .select(common_colums) \\\n",
    "    .withColumn('service_type', F.lit('yellow'))"
   ]
  },
  {
   "cell_type": "code",
   "execution_count": 19,
   "metadata": {},
   "outputs": [],
   "source": [
    "df_trips_data = df_green_sel.unionAll(df_yellow_sel)"
   ]
  },
  {
   "cell_type": "code",
   "execution_count": 20,
   "metadata": {},
   "outputs": [
    {
     "name": "stdout",
     "output_type": "stream",
     "text": [
      "+------------+--------+\n",
      "|service_type|   count|\n",
      "+------------+--------+\n",
      "|       green| 2304517|\n",
      "|      yellow|39649199|\n",
      "+------------+--------+\n",
      "\n"
     ]
    }
   ],
   "source": [
    "df_trips_data.groupBy('service_type').count().show()"
   ]
  },
  {
   "cell_type": "code",
   "execution_count": 22,
   "metadata": {},
   "outputs": [],
   "source": [
    "df_trips_data.createOrReplaceTempView('trips_data')"
   ]
  },
  {
   "cell_type": "code",
   "execution_count": 23,
   "metadata": {},
   "outputs": [
    {
     "name": "stdout",
     "output_type": "stream",
     "text": [
      "+------------+--------+\n",
      "|service_type|count(1)|\n",
      "+------------+--------+\n",
      "|       green| 2304517|\n",
      "|      yellow|39649199|\n",
      "+------------+--------+\n",
      "\n"
     ]
    }
   ],
   "source": [
    "spark.sql(\"\"\"\n",
    "SELECT\n",
    "    service_type,\n",
    "    count(1)\n",
    "FROM\n",
    "    trips_data\n",
    "GROUP BY \n",
    "    service_type\n",
    "\"\"\").show()"
   ]
  },
  {
   "cell_type": "code",
   "execution_count": 25,
   "metadata": {},
   "outputs": [],
   "source": [
    "df_result = spark.sql(\"\"\"\n",
    "SELECT \n",
    "    -- Reveneue grouping \n",
    "    PULocationID AS revenue_zone,\n",
    "    date_trunc('month', pickup_datetime) AS revenue_month, \n",
    "    service_type, \n",
    "\n",
    "    -- Revenue calculation \n",
    "    SUM(fare_amount) AS revenue_monthly_fare,\n",
    "    SUM(extra) AS revenue_monthly_extra,\n",
    "    SUM(mta_tax) AS revenue_monthly_mta_tax,\n",
    "    SUM(tip_amount) AS revenue_monthly_tip_amount,\n",
    "    SUM(tolls_amount) AS revenue_monthly_tolls_amount,\n",
    "    SUM(improvement_surcharge) AS revenue_monthly_improvement_surcharge,\n",
    "    SUM(total_amount) AS revenue_monthly_total_amount,\n",
    "    SUM(congestion_surcharge) AS revenue_monthly_congestion_surcharge,\n",
    "\n",
    "    -- Additional calculations\n",
    "    AVG(passenger_count) AS avg_montly_passenger_count,\n",
    "    AVG(trip_distance) AS avg_montly_trip_distance\n",
    "FROM\n",
    "    trips_data\n",
    "GROUP BY\n",
    "    PULocationID, date_trunc('month', pickup_datetime), service_type\n",
    "\"\"\")"
   ]
  },
  {
   "cell_type": "code",
   "execution_count": 26,
   "metadata": {},
   "outputs": [
    {
     "name": "stdout",
     "output_type": "stream",
     "text": [
      "+------------+-------------------+------------+--------------------+---------------------+-----------------------+--------------------------+----------------------------+-------------------------------------+----------------------------+------------------------------------+--------------------------+------------------------+\n",
      "|revenue_zone|      revenue_month|service_type|revenue_monthly_fare|revenue_monthly_extra|revenue_monthly_mta_tax|revenue_monthly_tip_amount|revenue_monthly_tolls_amount|revenue_monthly_improvement_surcharge|revenue_monthly_total_amount|revenue_monthly_congestion_surcharge|avg_montly_passenger_count|avg_montly_trip_distance|\n",
      "+------------+-------------------+------------+--------------------+---------------------+-----------------------+--------------------------+----------------------------+-------------------------------------+----------------------------+------------------------------------+--------------------------+------------------------+\n",
      "|          74|2020-01-01 00:00:00|       green|   376352.9000000021|              17171.5|                16234.5|        41357.130000000434|           6942.939999999899|                    10111.49999999885|          488720.66999983916|                            24845.25|        1.3112244897959184|      2.3658925852172903|\n",
      "|          80|2020-01-01 00:00:00|       green|   40295.91000000002|              1360.25|                  736.5|         4232.540000000001|           628.6800000000002|                    566.4000000000054|          48939.580000000526|                              1193.5|         1.448907265209687|       4.101096230158728|\n",
      "|         157|2020-01-01 00:00:00|       green|             9307.45|                544.0|                  101.0|        269.89000000000004|          200.44000000000005|                   109.79999999999932|          10590.229999999994|                               57.75|        1.2780748663101604|       4.799113300492609|\n",
      "|         195|2020-01-01 00:00:00|       green|  11358.090000000004|                549.5|                  143.0|         804.6199999999998|          255.07000000000008|                   135.29999999999941|          13429.329999999967|                              129.25|         1.211726384364821|      4.5858476190476205|\n",
      "|          42|2019-12-01 00:00:00|       green|                 8.0|                  0.5|                    0.5|                      1.86|                         0.0|                                  0.3|                       13.11|                                 0.0|                       1.0|                    1.31|\n",
      "|         115|2020-02-01 00:00:00|       green|             1223.54|                 20.0|                   13.5|                       0.0|          298.90000000000003|                    9.899999999999999|                     1565.84|                                 0.0|        1.1724137931034482|      12.094285714285714|\n",
      "|         163|2020-02-01 00:00:00|       green|   972.2199999999998|                 71.5|                    1.5|                       0.0|                       24.48|                    8.099999999999998|          1077.8000000000002|                                 0.0|                       1.0|       9.730740740740739|\n",
      "|         196|2020-02-01 00:00:00|       green|   46279.90000000005|              2149.75|                 1167.0|        1610.1499999999999|           718.9600000000005|                    868.1999999999966|           53012.36000000008|                              217.25|        1.4608510638297871|      3.4216819260766345|\n",
      "|          43|2020-02-01 00:00:00|       green|            48268.55|              2812.25|                 2213.0|         7933.620000000054|           421.7400000000002|                   1343.6999999999443|           70837.56000000093|                             8733.75|         1.379333633498424|        2.31291990237408|\n",
      "|         188|2020-01-01 00:00:00|       green|            55506.92|               4163.0|                  596.0|        394.72999999999996|           722.8400000000003|                    708.8999999999838|          62224.390000000145|                               63.25|        1.1921458625525947|       3.930629238884709|\n",
      "|         118|2020-01-01 00:00:00|       green|              533.73|                 11.5|                    2.0|                       0.0|                       82.58|                   2.6999999999999997|                      632.51|                                 0.0|                       1.4|      17.745555555555555|\n",
      "|          75|2019-12-01 00:00:00|       green|                17.0|                  0.5|                    0.5|                       0.0|                         0.0|                                  0.3|                        18.3|                                 0.0|                       1.0|                    5.57|\n",
      "|          40|2020-02-01 00:00:00|       green|  21840.030000000006|                896.5|                  831.0|        3179.4300000000003|           397.8000000000002|                    517.8000000000081|          28638.259999999802|                              967.75|        1.2492456246228123|       2.854406196213424|\n",
      "|         203|2020-02-01 00:00:00|       green|   9738.939999999991|                580.5|                   47.0|                       0.0|          208.08000000000004|                    77.99999999999977|          10652.519999999997|                                 0.0|        1.2878787878787878|       9.626559139784947|\n",
      "|         124|2020-01-01 00:00:00|       green|   7916.269999999993|                464.5|                   52.5|                     15.56|          285.27000000000015|                    74.99999999999964|           8809.099999999995|                                 0.0|        1.0185185185185186|      7.0904059040590415|\n",
      "|          49|2020-02-01 00:00:00|       green|   46600.79000000002|              3009.75|                 1066.5|        2351.5899999999974|          425.58000000000015|                    834.2999999999985|           54981.21000000002|                               503.0|        1.1805421103581801|      3.2896354166666653|\n",
      "|         126|2020-01-01 00:00:00|       green|  11827.840000000017|               766.75|                  110.5|                    101.87|          458.28000000000026|                    145.1999999999998|           13425.33999999999|                                11.0|                     1.275|       5.187806691449813|\n",
      "|         142|2020-01-01 00:00:00|       green|              2962.5|               173.75|                    7.5|                       0.0|                       87.44|                   23.700000000000035|                     3254.89|                                 0.0|                       1.0|       9.531012658227848|\n",
      "|         111|2020-01-01 00:00:00|       green|  57.230000000000004|                 4.25|                    2.0|                       6.0|                         0.0|                                  1.5|                       70.98|                                 0.0|                       1.0|                   2.692|\n",
      "|         222|2020-02-01 00:00:00|       green|  19378.070000000003|               1724.5|                   94.5|                     10.83|           514.8300000000003|                   176.09999999999917|          21898.830000000005|                                 0.0|        1.1714285714285715|       7.231880597014932|\n",
      "+------------+-------------------+------------+--------------------+---------------------+-----------------------+--------------------------+----------------------------+-------------------------------------+----------------------------+------------------------------------+--------------------------+------------------------+\n",
      "only showing top 20 rows\n",
      "\n"
     ]
    }
   ],
   "source": [
    "df_result.show()"
   ]
  },
  {
   "cell_type": "code",
   "execution_count": 27,
   "metadata": {},
   "outputs": [],
   "source": [
    "df_result.coalesce(1).write.parquet('data/report/revenue/', mode='overwrite')"
   ]
  },
  {
   "cell_type": "code",
   "execution_count": 28,
   "metadata": {},
   "outputs": [
    {
     "data": {
      "text/plain": [
       "'3.3.2'"
      ]
     },
     "execution_count": 28,
     "metadata": {},
     "output_type": "execute_result"
    }
   ],
   "source": [
    "spark.version"
   ]
  },
  {
   "cell_type": "code",
   "execution_count": null,
   "metadata": {},
   "outputs": [],
   "source": []
  }
 ],
 "metadata": {
  "kernelspec": {
   "display_name": "Python 3",
   "language": "python",
   "name": "python3"
  },
  "language_info": {
   "codemirror_mode": {
    "name": "ipython",
    "version": 3
   },
   "file_extension": ".py",
   "mimetype": "text/x-python",
   "name": "python",
   "nbconvert_exporter": "python",
   "pygments_lexer": "ipython3",
   "version": "3.8.5"
  }
 },
 "nbformat": 4,
 "nbformat_minor": 4
}
